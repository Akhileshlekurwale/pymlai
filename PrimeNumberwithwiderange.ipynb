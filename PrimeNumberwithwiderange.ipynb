{
 "cells": [
  {
   "cell_type": "code",
   "execution_count": 1,
   "id": "c1a91445",
   "metadata": {},
   "outputs": [],
   "source": [
    "from tqdm import tqdm\n",
    "\n",
    "def prime_no_inrange(number):\n",
    "    prime = list()\n",
    "    check = [True]*(number+1)\n",
    "    \n",
    "    for p in tqdm(range(2,number+1)):\n",
    "        if check[p]== True:\n",
    "            prime.append(p)\n",
    "            for i in range(p,number+1,p):\n",
    "                check[i]= False\n",
    "            \n",
    "    return len(prime)\n",
    "            \n"
   ]
  },
  {
   "cell_type": "code",
   "execution_count": 8,
   "id": "54897f92",
   "metadata": {},
   "outputs": [
    {
     "name": "stderr",
     "output_type": "stream",
     "text": [
      "100%|███████████████████████████████████████████████████████████████████████████████████████████████████████████████| 999999999/999999999 [09:24<00:00, 1772673.58it/s]\n"
     ]
    },
    {
     "data": {
      "text/plain": [
       "50847534"
      ]
     },
     "execution_count": 8,
     "metadata": {},
     "output_type": "execute_result"
    }
   ],
   "source": [
    "prime_no_inrange(1000000000)"
   ]
  },
  {
   "cell_type": "code",
   "execution_count": null,
   "id": "06c67588",
   "metadata": {},
   "outputs": [],
   "source": []
  }
 ],
 "metadata": {
  "kernelspec": {
   "display_name": "Python 3",
   "language": "python",
   "name": "python3"
  },
  "language_info": {
   "codemirror_mode": {
    "name": "ipython",
    "version": 3
   },
   "file_extension": ".py",
   "mimetype": "text/x-python",
   "name": "python",
   "nbconvert_exporter": "python",
   "pygments_lexer": "ipython3",
   "version": "3.8.8"
  }
 },
 "nbformat": 4,
 "nbformat_minor": 5
}
